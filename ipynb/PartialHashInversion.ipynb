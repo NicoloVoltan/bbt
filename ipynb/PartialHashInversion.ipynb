{
  "nbformat": 4,
  "nbformat_minor": 0,
  "metadata": {
    "colab": {
      "name": "PartialHashInversion.ipynb",
      "provenance": [],
      "collapsed_sections": [],
      "include_colab_link": true
    },
    "kernelspec": {
      "name": "python3",
      "display_name": "Python 3"
    }
  },
  "cells": [
    {
      "cell_type": "markdown",
      "metadata": {
        "id": "SxYymR8C23tC",
        "colab_type": "text"
      },
      "source": [
        "Partial Hash Inversion"
      ]
    },
    {
      "cell_type": "markdown",
      "metadata": {
        "id": "view-in-github",
        "colab_type": "text"
      },
      "source": [
        "<a href=\"https://colab.research.google.com/github/btclib-org/bbt/ipynb/blob/master/PartialHashInversion.ipynb\" target=\"_parent\"><img src=\"https://colab.research.google.com/assets/colab-badge.svg\" alt=\"Open In Colab\"/></a>"
      ]
    },
    {
      "cell_type": "code",
      "execution_count": null,
      "metadata": {},
      "outputs": [],
      "source": []
    },
    {
      "cell_type": "code",
      "execution_count": null,
      "metadata": {},
      "outputs": [],
      "source": []
    },
    {
      "cell_type": "code",
      "metadata": {
        "id": "7huY6zDs2Xai",
        "colab_type": "code",
        "outputId": "0d9ddd21-d073-438b-8d5b-28996ae14ce7",
        "colab": {
          "base_uri": "https://localhost:8080/",
          "height": 295
        }
      },
      "source": [
        "#!/usr/bin/env python3\n",
        "\n",
        "# Copyright (C) 2017-2020 The btclib developers\n",
        "#\n",
        "# This file is part of btclib. It is subject to the license terms in the\n",
        "# LICENSE file found in the top-level directory of this distribution.\n",
        "#\n",
        "# No part of btclib including this file, may be copied, modified, propagated,\n",
        "# or distributed except according to the terms contained in the LICENSE file.\n",
        "\n",
        "import hashlib\n",
        "import time\n",
        "from typing import List\n",
        "\n",
        "msg = input('insert string (return for \"Hello, world!\"): ')\n",
        "if msg == \"\": msg = \"Hello, world!\"\n",
        "\n",
        "zerostr = input('number of required zeros (return for 4 zeros): ')\n",
        "if zerostr == \"\":\n",
        "    zeros = 4\n",
        "else:\n",
        "    zeros = int(zerostr)\n",
        "assert zeros > 0, \"the number of zeros to look for must be greater than zero\"\n",
        "\n",
        "print(f\"\\nstring is: {msg}\")\n",
        "print(f\"{zeros} required zeros\")\n",
        "\n",
        "# n[i] is used to count the results starting with i+1 zeros\n",
        "n: List[int] = []\n",
        "maxEval = pow(16, zeros+1)\n",
        "i = j = nonce = 0\n",
        "start = time.time()\n",
        "while i < maxEval and nonce == 0:\n",
        "    string = msg+str(i)\n",
        "    hashValue = hashlib.sha256(string.encode()).hexdigest()\n",
        "    while hashValue[j] == \"0\":\n",
        "        if j < len(n):\n",
        "            n[j] += 1\n",
        "        else:\n",
        "            n.append(1)\n",
        "            elapsed = time.time() - start\n",
        "            report = f\"{j+1} zeros found {n}\"\n",
        "            if 0 < elapsed <= 600:\n",
        "                report += f\" in {round(elapsed)} seconds at {round(i/elapsed)} hash/s\"\n",
        "            elif 600 < elapsed <= 36000:\n",
        "                report += f\" in {round(elapsed/60)} minutes at {round(i/elapsed)} hash/s\"\n",
        "            elif 36000 < elapsed:\n",
        "                report += f\" in {round(elapsed/3600)} hours at {round(i/elapsed)} hash/s\"\n",
        "            print(report)\n",
        "            if j == zeros-1:\n",
        "                nonce = i\n",
        "        j += 1\n",
        "    j = 0\n",
        "    i += 1\n",
        "\n",
        "if n[zeros-1] == 1:\n",
        "    print(\"nonce:\", nonce)\n",
        "    print(string)\n",
        "    print(hashValue)\n",
        "else:\n",
        "    print(\"nonce not found\")\n"
      ],
      "execution_count": 0,
      "outputs": [
        {
          "output_type": "stream",
          "text": [
            "insert string (return for \"Hello, world!\"): paolomazzocchi\n",
            "number of required zeros (return for 4 zeros): 7\n",
            "\n",
            "string is: paolomazzocchi\n",
            "7 required zeros\n",
            "1 zeros found [1] in 0 seconds at 32264 hash/s\n",
            "2 zeros found [24, 1] in 0 seconds at 345782 hash/s\n",
            "3 zeros found [112, 6, 1] in 0 seconds at 555206 hash/s\n",
            "4 zeros found [9415, 572, 30, 1] in 0 seconds at 632469 hash/s\n",
            "5 zeros found [38724, 2469, 149, 5, 1] in 1 seconds at 663948 hash/s\n",
            "6 zeros found [38724, 2469, 149, 5, 1, 1] in 1 seconds at 663758 hash/s\n",
            "7 zeros found [15326843, 955891, 59630, 3753, 243, 23, 1] in 356 seconds at 689897 hash/s\n",
            "nonce: 245265994\n",
            "paolomazzocchi245265994\n",
            "000000057cf2a14ebf763265566f53cbf624338765df1ea1708376ce59e927e8\n"
          ],
          "name": "stdout"
        }
      ]
    },
    {
      "cell_type": "markdown",
      "metadata": {
        "id": "7g5_XzhWmKhY",
        "colab_type": "text"
      },
      "source": [
        "Now plot the result in a bar chart"
      ]
    },
    {
      "cell_type": "code",
      "metadata": {
        "id": "aX2MrTEl69Xk",
        "colab_type": "code",
        "outputId": "8d2afdb4-a9c8-4b96-dca5-7aafceffe36b",
        "colab": {
          "base_uri": "https://localhost:8080/",
          "height": 283
        }
      },
      "source": [
        "import matplotlib.pyplot as plt\n",
        "\n",
        "x = []\n",
        "i=1\n",
        "for i in range(zeros):\n",
        "    x.append(i+1)\n",
        "\n",
        "plt.bar(x, n)\n",
        "plt.xlabel('Number of zeros')\n",
        "plt.ylabel('Number of results')\n",
        "plt.show()\n"
      ],
      "execution_count": 0,
      "outputs": [
        {
          "output_type": "display_data",
          "data": {
            "image/png": "[encoded data removed]",
            "text/plain": [
              "<Figure size 432x288 with 1 Axes>"
            ]
          },
          "metadata": {
            "tags": []
          }
        }
      ]
    },
    {
      "cell_type": "markdown",
      "metadata": {
        "id": "boMKWo-knBwG",
        "colab_type": "text"
      },
      "source": [
        "It is better to use a logarithmic scale for Y axis"
      ]
    },
    {
      "cell_type": "code",
      "metadata": {
        "id": "upwsE9WdnNO4",
        "colab_type": "code",
        "outputId": "48f25160-8b1a-475a-d1dd-3475abab800c",
        "colab": {
          "base_uri": "https://localhost:8080/",
          "height": 283
        }
      },
      "source": [
        "plt.bar(x, n, log='true')\n",
        "plt.xlabel('Number of zeros')\n",
        "plt.ylabel('Number of results')\n",
        "plt.show()"
      ],
      "execution_count": 0,
      "outputs": [
        {
          "output_type": "display_data",
          "data": {
            "image/png": "[encoded data removed]",
            "text/plain": [
              "<Figure size 432x288 with 1 Axes>"
            ]
          },
          "metadata": {
            "tags": []
          }
        }
      ]
    }
  ]
}