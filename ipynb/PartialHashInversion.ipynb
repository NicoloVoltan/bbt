{
  "nbformat": 4,
  "nbformat_minor": 0,
  "metadata": {
    "colab": {
      "name": "PartialHashInversion.ipynb",
      "provenance": [],
      "collapsed_sections": [],
      "include_colab_link": true
    },
    "kernelspec": {
      "name": "python3",
      "display_name": "Python 3"
    }
  },
  "cells": [
    {
      "cell_type": "markdown",
      "metadata": {
        "id": "view-in-github",
        "colab_type": "text"
      },
      "source": [
        "<a href=\"https://colab.research.google.com/github/btclib-org/bbt/blob/master/ipynb/PartialHashInversion.ipynb\" target=\"_parent\"><img src=\"https://colab.research.google.com/assets/colab-badge.svg\" alt=\"Open In Colab\"/></a>"
      ]
    },
    {
      "cell_type": "code",
      "metadata": {
        "id": "7huY6zDs2Xai",
        "colab_type": "code",
        "outputId": "d2fcfa4c-6854-4d1f-eb8d-1bfbfec09385",
        "colab": {
          "base_uri": "https://localhost:8080/",
          "height": 243
        }
      },
      "source": [
        "#!/usr/bin/env python3\n",
        "\n",
        "# Copyright (C) 2017-2020 The btclib developers\n",
        "#\n",
        "# This file is part of btclib. It is subject to the license terms in the\n",
        "# LICENSE file found in the top-level directory of this distribution.\n",
        "#\n",
        "# No part of btclib including this file, may be copied, modified, propagated,\n",
        "# or distributed except according to the terms contained in the LICENSE file.\n",
        "\n",
        "import hashlib\n",
        "import time\n",
        "from typing import List\n",
        "\n",
        "msg = input('insert string (return for \"Hello, world!\"): ')\n",
        "if msg == \"\": msg = \"Hello, world!\"\n",
        "\n",
        "zerostr = input('number of required zeros (return for 4 zeros): ')\n",
        "if zerostr == \"\":\n",
        "    zeros = 5\n",
        "else:\n",
        "    zeros = int(zerostr)\n",
        "assert zeros > 0, \"the number of zeros to look for must be greater than zero\"\n",
        "\n",
        "print(f\"\\nstring is: {msg}\")\n",
        "print(f\"{zeros} required zeros\")\n",
        "\n",
        "# n[i] is used to count the results starting with i+1 zeros\n",
        "n: List[int] = []\n",
        "maxEval = pow(16, zeros+1)\n",
        "i = j = nonce = 0\n",
        "start = time.time()\n",
        "while i < maxEval and nonce == 0:\n",
        "    string = msg+str(i)\n",
        "    hashValue = hashlib.sha256(string.encode()).hexdigest()\n",
        "    while hashValue[j] == \"0\":\n",
        "        if j < len(n):\n",
        "            n[j] += 1\n",
        "        else:\n",
        "            n.append(1)\n",
        "            elapsed = time.time() - start\n",
        "            report = f\"{j+1} zeros found {n}\"\n",
        "            if 0 < elapsed <= 600:\n",
        "                report += f\" in {round(elapsed)} seconds at {round(i/elapsed)} hash/s\"\n",
        "            elif 600 < elapsed <= 36000:\n",
        "                report += f\" in {round(elapsed/60)} minutes at {round(i/elapsed)} hash/s\"\n",
        "            elif 36000 < elapsed:\n",
        "                report += f\" in {round(elapsed/3600)} hours at {round(i/elapsed)} hash/s\"\n",
        "            print(report)\n",
        "            if j == zeros-1:\n",
        "                nonce = i\n",
        "        j += 1\n",
        "    j = 0\n",
        "    i += 1\n",
        "\n",
        "if n[zeros-1] == 1:\n",
        "    print(\"nonce:\", nonce)\n",
        "    print(string)\n",
        "    print(hashValue)\n",
        "else:\n",
        "    print(\"nonce not found\")"
      ],
      "execution_count": 1,
      "outputs": [
        {
          "output_type": "stream",
          "text": [
            "insert string (return for \"Hello, world!\"): \n",
            "number of required zeros (return for 4 zeros): \n",
            "\n",
            "string is: Hello, world!\n",
            "5 required zeros\n",
            "1 zeros found [1] in 0 seconds at 10058 hash/s\n",
            "2 zeros found [6, 1] in 0 seconds at 115313 hash/s\n",
            "3 zeros found [253, 10, 1] in 0 seconds at 617921 hash/s\n",
            "4 zeros found [253, 10, 1, 1] in 0 seconds at 605537 hash/s\n",
            "5 zeros found [111676, 6834, 446, 26, 1] in 3 seconds at 673574 hash/s\n",
            "nonce: 1784744\n",
            "Hello, world!1784744\n",
            "000005a715f229b1bf2eaa4a2787956a948842abc22d15a926bc13c186f4c88c\n"
          ],
          "name": "stdout"
        }
      ]
    },
    {
      "cell_type": "markdown",
      "metadata": {
        "id": "7g5_XzhWmKhY",
        "colab_type": "text"
      },
      "source": [
        "Now plot the result in a bar chart"
      ]
    },
    {
      "cell_type": "code",
      "metadata": {
        "id": "aX2MrTEl69Xk",
        "colab_type": "code",
        "outputId": "3e6bd2bf-0e2a-4d98-c0c1-0d4e6fa8e6d1",
        "colab": {
          "base_uri": "https://localhost:8080/",
          "height": 279
        }
      },
      "source": [
        "import matplotlib.pyplot as plt\n",
        "\n",
        "x = range(1, zeros+1)\n",
        "plt.bar(x, n)\n",
        "plt.xlabel('Leading zeros')\n",
        "plt.ylabel('Occurrences')\n",
        "plt.show()"
      ],
      "execution_count": 2,
      "outputs": [
        {
          "output_type": "display_data",
          "data": {
            "image/png": "[encoded data removed]",
            "text/plain": [
              "<Figure size 432x288 with 1 Axes>"
            ]
          },
          "metadata": {
            "tags": []
          }
        }
      ]
    },
    {
      "cell_type": "markdown",
      "metadata": {
        "id": "boMKWo-knBwG",
        "colab_type": "text"
      },
      "source": [
        "It is better to use a logarithmic scale for Y axis"
      ]
    },
    {
      "cell_type": "code",
      "metadata": {
        "id": "upwsE9WdnNO4",
        "colab_type": "code",
        "outputId": "6b6d8122-ac51-4bf6-c4fd-f024452472aa",
        "colab": {
          "base_uri": "https://localhost:8080/",
          "height": 279
        }
      },
      "source": [
        "plt.bar(x, n)\n",
        "plt.xlabel('Leading zeros')\n",
        "plt.ylabel('Occurrences')\n",
        "plt.yscale('log', basey=16)\n",
        "plt.show()"
      ],
      "execution_count": 3,
      "outputs": [
        {
          "output_type": "display_data",
          "data": {
            "image/png": "[encoded data removed]",
            "text/plain": [
              "<Figure size 432x288 with 1 Axes>"
            ]
          },
          "metadata": {
            "tags": []
          }
        }
      ]
    }
  ]
}