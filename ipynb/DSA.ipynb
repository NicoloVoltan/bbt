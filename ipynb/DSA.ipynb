{
  "nbformat": 4,
  "nbformat_minor": 0,
  "metadata": {
    "colab": {
      "name": "DSA.ipynb",
      "provenance": [],
      "collapsed_sections": [],
      "include_colab_link": true
    },
    "kernelspec": {
      "name": "python3",
      "display_name": "Python 3"
    }
  },
  "cells": [
    {
      "cell_type": "markdown",
      "metadata": {
        "id": "yBJq6ZBGJkoi",
        "colab_type": "text"
      },
      "source": [
        "# Elliptic Curve Digital Signature Algorithm (EC DSA)"
      ]
    },
    {
      "cell_type": "markdown",
      "metadata": {
        "id": "d_JpLBG9r--p",
        "colab_type": "text"
      },
      "source": [
        "# Setup\n",
        "\n",
        "btclib is needed: let's install/update it and import straight away some of its functions"
      ]
    },
    {
      "cell_type": "code",
      "metadata": {
        "id": "LwhoTndVSaz3",
        "colab_type": "code",
        "outputId": "ac4fc56d-4170-484d-dfe5-6714888d3869",
        "colab": {
          "base_uri": "https://localhost:8080/",
          "height": 35
        }
      },
      "source": [
        "!pip install --upgrade btclib\n",
        "\n",
        "from hashlib import sha256 as hf\n",
        "\n",
        "from btclib.numbertheory import mod_inv\n",
        "from btclib.curve import mult\n",
        "from btclib.curve import secp256k1 as ec"
      ],
      "execution_count": 5,
      "outputs": [
        {
          "output_type": "stream",
          "name": "stdout",
          "text": [
            "Requirement already up-to-date: btclib in /Users/ferdi/Git/upstream/btclib (2020.9)\n"
          ]
        }
      ]
    },
    {
      "cell_type": "markdown",
      "metadata": {
        "id": "bjYHR3nlIIoC",
        "colab_type": "text"
      },
      "source": [
        "For this exercise we use secp256k1 as elliptic curve and SHA256 as hash function:"
      ]
    },
    {
      "cell_type": "code",
      "metadata": {
        "id": "ByGdee-DFiZb",
        "colab_type": "code",
        "outputId": "b509f9b4-620a-4628-96a9-0bceeda8f7aa",
        "colab": {
          "base_uri": "https://localhost:8080/",
          "height": 173
        }
      },
      "source": [
        "print(ec)"
      ],
      "execution_count": 22,
      "outputs": [
        {
          "output_type": "stream",
          "name": "stdout",
          "text": [
            "Curve\n p   = FFFFFFFF FFFFFFFF FFFFFFFF FFFFFFFF FFFFFFFF FFFFFFFF FFFFFFFE FFFFFC2F\n a   = 0\n b   = 7\n x_G = 79BE667E F9DCBBAC 55A06295 CE870B07 029BFCDB 2DCE28D9 59F2815B 16F81798\n y_G = 483ADA77 26A3C465 5DA4FBFC 0E1108A8 FD17B448 A6855419 9C47D08F FB10D4B8\n n   = FFFFFFFF FFFFFFFF FFFFFFFF FFFFFFFE BAAEDCE6 AF48A03B BFD25E8C D0364141\n h = 1\n"
          ]
        }
      ]
    },
    {
      "cell_type": "markdown",
      "metadata": {
        "id": "XiRpjtu8MwI3",
        "colab_type": "text"
      },
      "source": [
        "Normally, hf is chosen such that its output size is roughly equal to the size of ec.n, since the overall security of the signature scheme will depend on the smallest of the two; however, the ECDSA standard support all combinations of sizes"
      ]
    },
    {
      "cell_type": "code",
      "metadata": {
        "id": "Jf4YS8X6M26W",
        "colab_type": "code",
        "outputId": "1ebb2d15-66e0-4dc6-f877-efd126323267",
        "colab": {
          "base_uri": "https://localhost:8080/",
          "height": 52
        }
      },
      "source": [
        "print(hf().digest_size)\n",
        "print(ec.nsize)"
      ],
      "execution_count": 25,
      "outputs": [
        {
          "output_type": "stream",
          "name": "stdout",
          "text": [
            "32\n32\n"
          ]
        }
      ]
    },
    {
      "cell_type": "markdown",
      "metadata": {
        "id": "ZR6PrjhMPwkr",
        "colab_type": "text"
      },
      "source": [
        "# **Digital Signature Protocol**\n",
        "\n",
        "## 1. Key generation\n",
        "\n",
        "Private key (generated elsewhere, a fixed value here):"
      ]
    },
    {
      "cell_type": "code",
      "metadata": {
        "id": "XzwPBqVoMZmg",
        "colab_type": "code",
        "outputId": "9090e525-e5a7-4eef-9891-5d499ccfc63f",
        "colab": {
          "base_uri": "https://localhost:8080/",
          "height": 52
        }
      },
      "source": [
        "q = 0x18E14A7B6A307F426A94F8114701E7C8E774E7F9A47E2C2035DB29A206321725\n",
        "assert 0 < q < ec.n, \"Invalid private key\"\n",
        "print(\"q:\", q)\n",
        "print(\"Hex(q):\", hex(q))"
      ],
      "execution_count": 8,
      "outputs": [
        {
          "output_type": "stream",
          "name": "stdout",
          "text": [
            "q: 11253563012059685825953619222107823549092147699031672238385790369351542642469\nHex(q): 0x18e14a7b6a307f426a94f8114701e7c8e774e7f9a47e2c2035db29a206321725\n"
          ]
        }
      ]
    },
    {
      "cell_type": "markdown",
      "metadata": {
        "id": "ON5UFxzaSrM6",
        "colab_type": "text"
      },
      "source": [
        "and the corresponding Public Key:"
      ]
    },
    {
      "cell_type": "code",
      "metadata": {
        "id": "1o0xWjJMQ5ST",
        "colab_type": "code",
        "outputId": "886d511e-4bce-416c-8c8e-598204f69594",
        "colab": {
          "base_uri": "https://localhost:8080/",
          "height": 72
        }
      },
      "source": [
        "Q = mult(q)\n",
        "print(Q)\n",
        "print(\"PubKey:\", \"02\" if (Q[1] % 2 == 0) else \"03\", hex(Q[0]))"
      ],
      "execution_count": 9,
      "outputs": [
        {
          "output_type": "stream",
          "name": "stdout",
          "text": [
            "(36422191471907241029883925342251831624200921388586025344128047678873736520530, 20277110887056303803699431755396003735040374760118964734768299847012543114150)\nPubKey: 02 0x50863ad64a87ae8a2fe83c1af1a8403cb53f53e486d8511dad8a04887e5b2352\n"
          ]
        }
      ]
    },
    {
      "cell_type": "markdown",
      "metadata": {
        "id": "N-TP47X3WkP3",
        "colab_type": "text"
      },
      "source": [
        "# 2. Sign Message"
      ]
    },
    {
      "cell_type": "markdown",
      "metadata": {
        "id": "BdMTqEUBTHZs",
        "colab_type": "text"
      },
      "source": [
        "## Message\n",
        "The message to be signed msg is first processed by hf, yielding to the so-called 'non-interactive challenge' c:"
      ]
    },
    {
      "cell_type": "code",
      "metadata": {
        "id": "YnDNcblIS4UU",
        "colab_type": "code",
        "outputId": "0c54c089-2f5a-4b86-c8c4-9fd9a8ecceaf",
        "colab": {
          "base_uri": "https://localhost:8080/",
          "height": 35
        }
      },
      "source": [
        "msg = \"Paolo is afraid of ephemeral random numbers\"\n",
        "\n",
        "# challenge is an integer modulo ec.n:\n",
        "msghd = hf(msg.encode()).digest()\n",
        "c = int.from_bytes(msghd, 'big') % ec.n\n",
        "assert c != 0\n",
        "print(\"c:\", hex(c))"
      ],
      "execution_count": 10,
      "outputs": [
        {
          "output_type": "stream",
          "name": "stdout",
          "text": [
            "c: 0x9788fd27b3aafd1bd1591a1158ce2d8bdc37ab4040dddb64e64d17616e69ce2b\n"
          ]
        }
      ]
    },
    {
      "cell_type": "markdown",
      "metadata": {
        "id": "ZqSVkyLRUuAG",
        "colab_type": "text"
      },
      "source": [
        "## Deterministic Ephemeral Key\n",
        "An ephemeral key k is required for signing; it must be kept secret and never reused. A good choice is to use a deterministic key: \n",
        "\n",
        "`k = hf(q||c) mod n` \n",
        "\n",
        "different for each msg, private because of q"
      ]
    },
    {
      "cell_type": "code",
      "metadata": {
        "id": "UxKdGjpyUctt",
        "colab_type": "code",
        "outputId": "b683b9b2-7501-4eea-ff0a-182315a8052b",
        "colab": {
          "base_uri": "https://localhost:8080/",
          "height": 35
        }
      },
      "source": [
        "k_bytes = hf(q.to_bytes(32, 'big') + c.to_bytes(32, 'big')).digest()\n",
        "k = int.from_bytes(k_bytes, 'big') % ec.n\n",
        "assert 0 < k < ec.n, \"Invalid ephemeral key\"\n",
        "print(\"k:\", hex(k))"
      ],
      "execution_count": 11,
      "outputs": [
        {
          "output_type": "stream",
          "name": "stdout",
          "text": [
            "k: 0x3fa3ccf6c168482533f1fa066650704546e56f0bf15fbfb3b4bc51f404e19ee7\n"
          ]
        }
      ]
    },
    {
      "cell_type": "markdown",
      "metadata": {
        "id": "40K9Y6q1bh0V",
        "colab_type": "text"
      },
      "source": [
        "## Signature Algorithm"
      ]
    },
    {
      "cell_type": "code",
      "metadata": {
        "id": "uj3GStNgWZIG",
        "colab_type": "code",
        "outputId": "f9a644ca-efde-459d-e6cf-dd9c6b618800",
        "colab": {
          "base_uri": "https://localhost:8080/",
          "height": 52
        }
      },
      "source": [
        "K = mult(k)\n",
        "\n",
        "r = K[0] % ec.n\n",
        "# if r == 0 (extremely unlikely for large ec.n) go back to a different k\n",
        "assert r != 0\n",
        "\n",
        "s = mod_inv(k, ec.n) * (c + r*q) % ec.n\n",
        "# if s == 0 (extremely unlikely for large ec.n) go back to a different k\n",
        "assert s != 0\n",
        "\n",
        "print(\"r:\", hex(r))\n",
        "print(\"s:\", hex(s))"
      ],
      "execution_count": 12,
      "outputs": [
        {
          "output_type": "stream",
          "name": "stdout",
          "text": [
            "r: 0xf91a63e7574b8a7ea99cc8999456e8044b9d1cb05a3ec25c3e8886cee3ed0142\ns: 0xb7297f54edd8f8b200b6115bf8ce54336b5ae4c0fe17cb509f11fd09e6751176\n"
          ]
        }
      ]
    },
    {
      "cell_type": "markdown",
      "metadata": {
        "id": "mjNR4BIMZ7Id",
        "colab_type": "text"
      },
      "source": [
        "# 3. Verify Signature"
      ]
    },
    {
      "cell_type": "code",
      "metadata": {
        "id": "VnnCnKJeZLJm",
        "colab_type": "code",
        "outputId": "fd6cafc7-1a2e-4d3a-fe9b-3cf12d005904",
        "colab": {
          "base_uri": "https://localhost:8080/",
          "height": 35
        }
      },
      "source": [
        "w = mod_inv(s, ec.n)\n",
        "u = c*w % ec.n\n",
        "v = r*w % ec.n\n",
        "assert u != 0\n",
        "assert v != 0\n",
        "U = mult(u)\n",
        "V = mult(v, Q)\n",
        "x, y = ec.add(U, V)\n",
        "print(r == x % ec.n)"
      ],
      "execution_count": 13,
      "outputs": [
        {
          "output_type": "stream",
          "name": "stdout",
          "text": [
            "True\n"
          ]
        }
      ]
    },
    {
      "cell_type": "markdown",
      "metadata": {
        "id": "Em7Y-s6Ranzh",
        "colab_type": "text"
      },
      "source": [
        "# Malleated Signature"
      ]
    },
    {
      "cell_type": "code",
      "metadata": {
        "id": "YXG1olsbamU_",
        "colab_type": "code",
        "outputId": "10a14605-fd9a-4eeb-948c-c4a5042d54aa",
        "colab": {
          "base_uri": "https://localhost:8080/",
          "height": 52
        }
      },
      "source": [
        "sm = ec.n - s\n",
        "print(\"r :\", hex(r))\n",
        "print(\"sm:\", hex(sm))"
      ],
      "execution_count": 14,
      "outputs": [
        {
          "output_type": "stream",
          "name": "stdout",
          "text": [
            "r : 0xf91a63e7574b8a7ea99cc8999456e8044b9d1cb05a3ec25c3e8886cee3ed0142\nsm: 0x48d680ab1227074dff49eea40731abcb4f53f825b130d4eb20c06182e9c12fcb\n"
          ]
        }
      ]
    },
    {
      "cell_type": "markdown",
      "metadata": {
        "id": "ibDsuYeBc5Xi",
        "colab_type": "text"
      },
      "source": [
        "Malleated signature verification:"
      ]
    },
    {
      "cell_type": "code",
      "metadata": {
        "id": "A_vX6UuXc4BB",
        "colab_type": "code",
        "outputId": "73951420-f03a-4663-a946-748f680f6dc3",
        "colab": {
          "base_uri": "https://localhost:8080/",
          "height": 35
        }
      },
      "source": [
        "w = mod_inv(sm, ec.n)\n",
        "u = c*w % ec.n\n",
        "v = r*w % ec.n\n",
        "assert u != 0\n",
        "assert v != 0\n",
        "U = mult(u)\n",
        "V = mult(v, Q)\n",
        "x, y = ec.add(U, V)\n",
        "print(r == x % ec.n)"
      ],
      "execution_count": 15,
      "outputs": [
        {
          "output_type": "stream",
          "name": "stdout",
          "text": [
            "True\n"
          ]
        }
      ]
    },
    {
      "cell_type": "markdown",
      "metadata": {
        "id": "dWP713sQdM12",
        "colab_type": "text"
      },
      "source": [
        "# A Humongous Mistake"
      ]
    },
    {
      "cell_type": "markdown",
      "metadata": {
        "id": "lZBMrXuligvc",
        "colab_type": "text"
      },
      "source": [
        "## Second Message\n",
        "A second different message to be signed and its corresponding challenge:"
      ]
    },
    {
      "cell_type": "code",
      "metadata": {
        "id": "aecLiCr2dNIz",
        "colab_type": "code",
        "outputId": "a42305ca-d0f3-41bc-cc37-3c245d417936",
        "colab": {
          "base_uri": "https://localhost:8080/",
          "height": 35
        }
      },
      "source": [
        "msg2 = \"and Paolo is right to be afraid\"\n",
        "\n",
        "# challenge is an integer modulo ec.n:\n",
        "msghd2 = hf(msg2.encode()).digest()\n",
        "c2 = int.from_bytes(msghd2, 'big') % ec.n\n",
        "assert c2 != 0\n",
        "print(\"c2:\", hex(c2))"
      ],
      "execution_count": 18,
      "outputs": [
        {
          "output_type": "stream",
          "name": "stdout",
          "text": [
            "c2: 0x7adb91982ec03ef87efcae7f0199aefa231d8855e0bd03319460e58c0bd18049\n"
          ]
        }
      ]
    },
    {
      "cell_type": "markdown",
      "metadata": {
        "id": "NQi4pK-UevXN",
        "colab_type": "text"
      },
      "source": [
        "## The Mistake \n",
        "Reuse the same ephemeral key as the previous message:"
      ]
    },
    {
      "cell_type": "code",
      "metadata": {
        "id": "Q4siGdMUev3t",
        "colab_type": "code",
        "outputId": "2c765d12-a8b5-4de8-bcf2-9f2cab1745b3",
        "colab": {
          "base_uri": "https://localhost:8080/",
          "height": 52
        }
      },
      "source": [
        "#very bad! Never reuse an ephemeral key!!!\n",
        "k2 = k\n",
        "print(\"k :\", hex(k))\n",
        "print(\"k2:\", hex(k2))"
      ],
      "execution_count": 19,
      "outputs": [
        {
          "output_type": "stream",
          "name": "stdout",
          "text": [
            "k : 0x3fa3ccf6c168482533f1fa066650704546e56f0bf15fbfb3b4bc51f404e19ee7\nk2: 0x3fa3ccf6c168482533f1fa066650704546e56f0bf15fbfb3b4bc51f404e19ee7\n"
          ]
        }
      ]
    },
    {
      "cell_type": "markdown",
      "metadata": {
        "id": "-wCVmqtgfM4C",
        "colab_type": "text"
      },
      "source": [
        "## Sign Second Message"
      ]
    },
    {
      "cell_type": "code",
      "metadata": {
        "id": "QGvDYriVfcvC",
        "colab_type": "code",
        "outputId": "3ad6e80e-401f-43a5-900e-f9983adbfa5f",
        "colab": {
          "base_uri": "https://localhost:8080/",
          "height": 52
        }
      },
      "source": [
        "K2 = mult(k2)\n",
        "\n",
        "r = K2[0] % ec.n\n",
        "# if r == 0 (extremely unlikely for large ec.n) go back to a different k\n",
        "assert r != 0\n",
        "\n",
        "s2 = mod_inv(k2, ec.n) * (c2 + r*q) % ec.n\n",
        "# if s2 == 0 (extremely unlikely for large ec.n) go back to a different k\n",
        "assert s2 != 0\n",
        "\n",
        "print(\"r :\", hex(r))\n",
        "print(\"s2:\", hex(s2))"
      ],
      "execution_count": 20,
      "outputs": [
        {
          "output_type": "stream",
          "name": "stdout",
          "text": [
            "r : 0xf91a63e7574b8a7ea99cc8999456e8044b9d1cb05a3ec25c3e8886cee3ed0142\ns2: 0xc7e70db59ce8c90521cc3d5599e8f7894422598673e16952b6da46b8f693afb8\n"
          ]
        }
      ]
    },
    {
      "cell_type": "markdown",
      "metadata": {
        "id": "xnatEJTMfnhd",
        "colab_type": "text"
      },
      "source": [
        "## Verify Second Signature"
      ]
    },
    {
      "cell_type": "code",
      "metadata": {
        "id": "ddtLyjfIbLgw",
        "colab_type": "code",
        "outputId": "8b1ac078-68ef-4c39-a667-46451c298da5",
        "colab": {
          "base_uri": "https://localhost:8080/",
          "height": 35
        }
      },
      "source": [
        "w = mod_inv(s2, ec.n)\n",
        "u = c2*w % ec.n\n",
        "v = r*w % ec.n\n",
        "assert u != 0\n",
        "assert v != 0\n",
        "U = mult(u)\n",
        "V = mult(v, Q)\n",
        "x, y = ec.add(U, V)\n",
        "print(r == x % ec.n)"
      ],
      "execution_count": 18,
      "outputs": [
        {
          "output_type": "stream",
          "text": [
            "True\n"
          ],
          "name": "stdout"
        }
      ]
    },
    {
      "cell_type": "markdown",
      "metadata": {
        "id": "hfQElvlnitgL",
        "colab_type": "text"
      },
      "source": [
        "# Exercise\n",
        "Because of the ephemeral key reuse is possible to calculate the private key from the 2 signatures. "
      ]
    },
    {
      "cell_type": "code",
      "metadata": {
        "id": "RENovvlCi0Ww",
        "colab_type": "code",
        "outputId": "50fb498c-d831-4796-d461-2e061192a114",
        "colab": {
          "base_uri": "https://localhost:8080/",
          "height": 52
        }
      },
      "source": [
        "# forget k, k2, q\n",
        "k=k2=q=0\n",
        "\n",
        "# solve the problem of calculating q\n",
        "# using only r, s, and s2:\n",
        "# k = \n",
        "# q = \n",
        "\n",
        "print(hex(q))\n",
        "print(mult(q) == Q) # check it is the correct private key"
      ],
      "execution_count": 21,
      "outputs": [
        {
          "output_type": "stream",
          "name": "stdout",
          "text": [
            "0x0\nFalse\n"
          ]
        }
      ]
    }
  ]
}